{
  "nbformat": 4,
  "nbformat_minor": 0,
  "metadata": {
    "colab": {
      "provenance": [],
      "authorship_tag": "ABX9TyMkwAMoKq9DFRmZSiSIFPLP",
      "include_colab_link": true
    },
    "kernelspec": {
      "name": "python3",
      "display_name": "Python 3"
    },
    "language_info": {
      "name": "python"
    }
  },
  "cells": [
    {
      "cell_type": "markdown",
      "metadata": {
        "id": "view-in-github",
        "colab_type": "text"
      },
      "source": [
        "<a href=\"https://colab.research.google.com/github/gwon0919/my-record/blob/main/numpy1.ipynb\" target=\"_parent\"><img src=\"https://colab.research.google.com/assets/colab-badge.svg\" alt=\"Open In Colab\"/></a>"
      ]
    },
    {
      "cell_type": "code",
      "source": [
        "# 수식을 통해 결과를 얻을 수 있으나 외부 모듈을 사용하면 수식없이 빠르게 결과를 얻을 수 있다.\n",
        "# 개념을 이해하고 함수나 메소드를 활용하자.\n",
        "# 평균, 분산, 표준 편차 구하기\n",
        "\n",
        "grades = [1,3,-2,4]\n",
        "\n",
        "\n",
        "grades = [1,3,-2,4]\n",
        "\n",
        "def grades_sum(grades):\n",
        "  tot = 0\n",
        "  for g in grades:\n",
        "    tot += g\n",
        "  return tot\n",
        "\n",
        "def grades_avg(grades):\n",
        "  tot = grades_sum(grades)\n",
        "  ave = tot / len(grades)\n",
        "  return ave\n",
        "\n",
        "def grades_variance(grades):\n",
        "  ave = grades_avg(grades)\n",
        "  vari = 0\n",
        "  for su in grades:\n",
        "    vari += (su - ave) ** 2\n",
        "  return vari / len(grades)  # 모집단으로 계산\n",
        "  #return vari / (len(grades) - 1)  # 표본집단으로 계산\n",
        "\n",
        "def grades_std(grades):\n",
        "  return grades_variance(grades) ** 0.5"
      ],
      "metadata": {
        "id": "8kyuwVPKzY3q"
      },
      "execution_count": 24,
      "outputs": []
    },
    {
      "cell_type": "code",
      "source": [
        "print('합은', grades_sum(grades))\n",
        "print('평균은', grades_avg(grades))\n",
        "print('분산은', grades_variance(grades))\n",
        "print('표준편차는', grades_std(grades))\n",
        "\n",
        "# NumPy를 사용하여 성적 계산\n",
        "import numpy as np\n",
        "print('합은', np.sum(grades))  # np.abssum 대신 np.sum 사용\n",
        "print('평균은', np.mean(grades), ' ', np.average(grades))  # np.mean 또는 np.average 사용\n",
        "print('분산은', np.var(grades))\n",
        "print('표준편차는', np.std(grades))"
      ],
      "metadata": {
        "id": "kaffU5_t9bAd"
      },
      "execution_count": null,
      "outputs": []
    },
    {
      "cell_type": "code",
      "source": [
        "# numpy 모듈(라이브러리)\n",
        "# 다차원 배열자료구조인 NDArrary, 선형대수 계산. 벡터 연산. 미적분 등을 지원\n",
        "import numpy as np\n",
        "ss = ['tom', 'oscar', 'john', 12, 12.3]\n",
        "print(ss, type(ss))\n",
        "ss2 = np.array(ss)      # list를 ndarray로 변환. 같은 type으로 요소값 구성. 상위 type으로 변환 int -> float -> complex -> str\n",
        "print(ss2, type(ss2))"
      ],
      "metadata": {
        "id": "iIFE8zEIFlVs"
      },
      "execution_count": null,
      "outputs": []
    },
    {
      "cell_type": "code",
      "source": [
        "# 메모리 비교 (list vs ndarrary)\n",
        "# list\n",
        "li = list(range(1,10))\n",
        "print(li)\n",
        "print(id(li[0]),id(li[1]))\n",
        "print(li*10)\n",
        "for i in li:\n",
        "  print(i * 10, end=' ')\n",
        "\n",
        "print('\\n')\n",
        "# ndarray\n",
        "num_arr = np.array(li)\n",
        "print(num_arr)\n",
        "print(id(num_arr[0]), id(num_arr[1]))\n",
        "print(num_arr * 10)\n"
      ],
      "metadata": {
        "id": "nNbjEbpfG9SW"
      },
      "execution_count": null,
      "outputs": []
    },
    {
      "cell_type": "code",
      "source": [
        "a = np.array([1,2,3])   # 1차원 배열\n",
        "print(a, type(a), a.dtype, a.shape, a.size)\n",
        "print(a[0], a[2])\n",
        "a[0]= 7\n",
        "print(a)"
      ],
      "metadata": {
        "id": "AYbpNmgxLTM-"
      },
      "execution_count": null,
      "outputs": []
    },
    {
      "cell_type": "code",
      "source": [
        "b = np.array([[1,2,3], [4,5,6]], dtype='float32')   # 2차원 배열\n",
        "print(b, type(b), b.dtype, b.shape, b.size)\n",
        "print(b[0,0],b[0,2])  # 1 3\n",
        "print(b[[0]])   # [[1 2 3]]\n"
      ],
      "metadata": {
        "colab": {
          "base_uri": "https://localhost:8080/"
        },
        "id": "dhKe1xJ0MP_2",
        "outputId": "a7708c62-4c5d-4c04-fcfa-7bf2c152da1e"
      },
      "execution_count": 42,
      "outputs": [
        {
          "output_type": "stream",
          "name": "stdout",
          "text": [
            "[[1. 2. 3.]\n",
            " [4. 5. 6.]] <class 'numpy.ndarray'> float32 (2, 3) 6\n",
            "1.0 3.0\n",
            "[[1. 2. 3.]]\n"
          ]
        }
      ]
    },
    {
      "cell_type": "code",
      "source": [
        "c = np.zeros((2,2))\n",
        "print(c)\n",
        "\n",
        "d = np.ones((2,2))\n",
        "print(d)\n",
        "\n",
        "e = np.full((2,2), 7)\n",
        "print(e)\n",
        "\n",
        "f = np.eye(3)\n",
        "print(f)"
      ],
      "metadata": {
        "colab": {
          "base_uri": "https://localhost:8080/"
        },
        "id": "nKzN1kf1NZxf",
        "outputId": "8d768749-f1a9-4297-9154-18e5be3012c0"
      },
      "execution_count": 48,
      "outputs": [
        {
          "output_type": "stream",
          "name": "stdout",
          "text": [
            "[[0. 0.]\n",
            " [0. 0.]]\n",
            "[[1. 1.]\n",
            " [1. 1.]]\n",
            "[[7 7]\n",
            " [7 7]]\n",
            "[[1. 0. 0.]\n",
            " [0. 1. 0.]\n",
            " [0. 0. 1.]]\n"
          ]
        }
      ]
    },
    {
      "cell_type": "code",
      "source": [
        "np.random.seed(0)\n",
        "print(np.random.rand(5))  # 균등분포를 따르는 난수\n",
        "print(np.random.randn(5)) # 정규분포를 따르는 난수\n",
        "\n",
        "print(np.random.randint(10, size = 6))\n",
        "print(np.random.randint(10, size = (3,4,5)))\n"
      ],
      "metadata": {
        "colab": {
          "base_uri": "https://localhost:8080/"
        },
        "id": "c_r0tMBkOZWO",
        "outputId": "6070fe20-6a32-4d63-b318-c801f71c2202"
      },
      "execution_count": 60,
      "outputs": [
        {
          "output_type": "stream",
          "name": "stdout",
          "text": [
            "[0.5488135  0.71518937 0.60276338 0.54488318 0.4236548 ]\n",
            "[-0.84272405  1.96992445  1.26611853 -0.50587654  2.54520078]\n",
            "[5 9 8 9 4 3]\n",
            "[[[0 3 5 0 2]\n",
            "  [3 8 1 3 3]\n",
            "  [3 7 0 1 9]\n",
            "  [9 0 4 7 3]]\n",
            "\n",
            " [[2 7 2 0 0]\n",
            "  [4 5 5 6 8]\n",
            "  [4 1 4 9 8]\n",
            "  [1 1 7 9 9]]\n",
            "\n",
            " [[3 6 7 2 0]\n",
            "  [3 5 9 4 4]\n",
            "  [6 4 4 3 4]\n",
            "  [4 8 4 3 7]]]\n"
          ]
        }
      ]
    },
    {
      "cell_type": "code",
      "source": [
        "# 인덱싱, 슬라이싱\n",
        "a = np.array([1,2,3,4,5])\n",
        "print(a)\n",
        "print(a[0])\n",
        "print(a[1:3])\n",
        "print(a[1:5:2])\n",
        "\n",
        "print()\n",
        "b = np.array([[1,2,3,4],[5,6,7,8],[9,10,11,12]])\n",
        "print(b)\n",
        "print(b[:])\n",
        "print(b[0,0])\n",
        "print(b[[0]])\n",
        "print(b[[0]], b[0],b[0][0]) # [[1 2 3 4]] [1 2 3 4] 1\n",
        "print(b[1:, 0:2])\n",
        "\n",
        "print()\n",
        "c = b[:2, 1:3]\n",
        "print(c)\n",
        "print(c[0,0])\n",
        "c[0,0] = 99\n",
        "print(c)\n",
        "print(b)"
      ],
      "metadata": {
        "colab": {
          "base_uri": "https://localhost:8080/"
        },
        "id": "f2GB_s5PPsXF",
        "outputId": "ff136750-5833-4bd3-b52f-d38c6a0b0c07"
      },
      "execution_count": 67,
      "outputs": [
        {
          "output_type": "stream",
          "name": "stdout",
          "text": [
            "[1 2 3 4 5]\n",
            "1\n",
            "[2 3]\n",
            "[2 4]\n",
            "\n",
            "[[ 1  2  3  4]\n",
            " [ 5  6  7  8]\n",
            " [ 9 10 11 12]]\n",
            "[[ 1  2  3  4]\n",
            " [ 5  6  7  8]\n",
            " [ 9 10 11 12]]\n",
            "1\n",
            "[[1 2 3 4]]\n",
            "[[1 2 3 4]] [1 2 3 4] 1\n",
            "[[ 5  6]\n",
            " [ 9 10]]\n",
            "\n",
            "[[2 3]\n",
            " [6 7]]\n",
            "2\n",
            "[[99  3]\n",
            " [ 6  7]]\n",
            "[[ 1 99  3  4]\n",
            " [ 5  6  7  8]\n",
            " [ 9 10 11 12]]\n"
          ]
        }
      ]
    }
  ]
}